{
 "cells": [
  {
   "cell_type": "markdown",
   "metadata": {
    "collapsed": true
   },
   "source": [
    "# Segmenting and Clustering Neighborhoods in Toronto"
   ]
  },
  {
   "cell_type": "code",
   "execution_count": 90,
   "metadata": {},
   "outputs": [
    {
     "data": {
      "text/html": [
       "<div>\n",
       "<style scoped>\n",
       "    .dataframe tbody tr th:only-of-type {\n",
       "        vertical-align: middle;\n",
       "    }\n",
       "\n",
       "    .dataframe tbody tr th {\n",
       "        vertical-align: top;\n",
       "    }\n",
       "\n",
       "    .dataframe thead th {\n",
       "        text-align: right;\n",
       "    }\n",
       "</style>\n",
       "<table border=\"1\" class=\"dataframe\">\n",
       "  <thead>\n",
       "    <tr style=\"text-align: right;\">\n",
       "      <th></th>\n",
       "      <th>PostalCode</th>\n",
       "      <th>Borough</th>\n",
       "      <th>Neighborhood</th>\n",
       "    </tr>\n",
       "  </thead>\n",
       "  <tbody>\n",
       "    <tr>\n",
       "      <th>0</th>\n",
       "      <td>M3A</td>\n",
       "      <td>North York</td>\n",
       "      <td>Parkwoods</td>\n",
       "    </tr>\n",
       "    <tr>\n",
       "      <th>1</th>\n",
       "      <td>M4A</td>\n",
       "      <td>North York</td>\n",
       "      <td>Victoria Village</td>\n",
       "    </tr>\n",
       "    <tr>\n",
       "      <th>2</th>\n",
       "      <td>M5A</td>\n",
       "      <td>Downtown Toronto</td>\n",
       "      <td>Regent Park, Harbourfront</td>\n",
       "    </tr>\n",
       "    <tr>\n",
       "      <th>3</th>\n",
       "      <td>M6A</td>\n",
       "      <td>North York</td>\n",
       "      <td>Lawrence Manor, Lawrence Heights</td>\n",
       "    </tr>\n",
       "    <tr>\n",
       "      <th>4</th>\n",
       "      <td>M7A</td>\n",
       "      <td>Downtown Toronto</td>\n",
       "      <td>Queen's Park, Ontario Provincial Government</td>\n",
       "    </tr>\n",
       "  </tbody>\n",
       "</table>\n",
       "</div>"
      ],
      "text/plain": [
       "  PostalCode           Borough                                 Neighborhood\n",
       "0        M3A        North York                                    Parkwoods\n",
       "1        M4A        North York                             Victoria Village\n",
       "2        M5A  Downtown Toronto                    Regent Park, Harbourfront\n",
       "3        M6A        North York             Lawrence Manor, Lawrence Heights\n",
       "4        M7A  Downtown Toronto  Queen's Park, Ontario Provincial Government"
      ]
     },
     "execution_count": 90,
     "metadata": {},
     "output_type": "execute_result"
    }
   ],
   "source": [
    "# data from web\n",
    "\n",
    "import pandas as pd\n",
    "import numpy as np\n",
    "import re\n",
    "\n",
    "data_url ='https://en.wikipedia.org/wiki/List_of_postal_codes_of_Canada:_M'\n",
    "\n",
    "data = pd.read_html(data_url)[0]\n",
    "\n",
    "data_list = data.values.reshape(-1).tolist()\n",
    "\n",
    "data_filter = []\n",
    "PostalCode = []\n",
    "Borough = []\n",
    "Neighborhood =[]\n",
    "\n",
    "for i in data_list:\n",
    "    \n",
    "    if 'Not assigned' not in i:\n",
    "        i = i.replace(\" / \",\", \")\n",
    "        data_filter.append(i)\n",
    "\n",
    "\n",
    "for i in data_filter:\n",
    "    char_posi = i.find('(')\n",
    "    char_posi_end = i.find(')')\n",
    "    \n",
    "    i_Post = i[0:3]\n",
    "    i_Boro = i[3:char_posi]\n",
    "    i_Neigh = i[char_posi+1:char_posi_end]\n",
    "    \n",
    "    PostalCode.append(i_Post)\n",
    "    Borough.append(i_Boro)\n",
    "    Neighborhood.append(i_Neigh)\n",
    "    \n",
    "from pandas.core.frame import DataFrame\n",
    "\n",
    "a = np.array(PostalCode).reshape(-1,1)\n",
    "b = np.array(Borough).reshape(-1,1)\n",
    "c = np.array(Neighborhood).reshape(-1,1)\n",
    "\n",
    "sum = np.hstack((a,b,c))\n",
    "\n",
    "sum[76][1] = 'Mississauga'\n",
    "sum[76][2] ='Canada Post Gateway Processing Centre, Enclave of L4W'\n",
    "sum[92][1] ='Downtown Toronto'\n",
    "sum[92][2] ='Stn A PO Boxes25 The Esplanade, Enclave of M5E' \n",
    "sum[100][1] = 'East Toronto'\n",
    "sum[100][2] = 'Business reply mail Processing Centre969 Eastern, Enclave of M4L'\n",
    "\n",
    "\n",
    "\n",
    "\n",
    "data_df = DataFrame(sum)\n",
    "\n",
    "data_df.columns=['PostalCode','Borough','Neighborhood']\n",
    "\n",
    "data_df.head()"
   ]
  },
  {
   "cell_type": "code",
   "execution_count": 88,
   "metadata": {},
   "outputs": [
    {
     "data": {
      "text/plain": [
       "(103, 3)"
      ]
     },
     "execution_count": 88,
     "metadata": {},
     "output_type": "execute_result"
    }
   ],
   "source": [
    "data_df.shape"
   ]
  },
  {
   "cell_type": "code",
   "execution_count": null,
   "metadata": {
    "scrolled": false
   },
   "outputs": [],
   "source": []
  }
 ],
 "metadata": {
  "kernelspec": {
   "display_name": "Python 3.6",
   "language": "python",
   "name": "python3"
  },
  "language_info": {
   "codemirror_mode": {
    "name": "ipython",
    "version": 3
   },
   "file_extension": ".py",
   "mimetype": "text/x-python",
   "name": "python",
   "nbconvert_exporter": "python",
   "pygments_lexer": "ipython3",
   "version": "3.6.9"
  }
 },
 "nbformat": 4,
 "nbformat_minor": 1
}
